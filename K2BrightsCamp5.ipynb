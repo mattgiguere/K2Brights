{
 "cells": [
  {
   "cell_type": "markdown",
   "metadata": {},
   "source": [
    "#K2BrightsCamp5\n",
    "\n",
    "####A determination of the bright dwarf stars in the K2 Campaign 5 Field\n",
    "\n",
    "###Introduction\n",
    "\n",
    "In the K2 Mission the Kepler Spacecraft observes different fields along the ecliptic. The \"selected\", \"wanted\", and \"proposed\" [K2 fields](http://keplerscience.arc.nasa.gov/K2/images/CampaignSkyII.png) are shown in the below figure.\n",
    "\n",
    "![Kepler K2 Fields](figures/CampaignSkyIISm.png)\n",
    "\n",
    "Campaign 5 will start on 2015.04.27 and last until 2015.07.13 and will a section of the sky between RAs of 120 - 140 degrees, and declinations between 9 and 24 degrees.\n",
    "\n",
    "![K2 Campaign 5 Field](figures/field5-final.png)"
   ]
  },
  {
   "cell_type": "code",
   "execution_count": null,
   "metadata": {
    "collapsed": true
   },
   "outputs": [],
   "source": []
  }
 ],
 "metadata": {
  "kernelspec": {
   "display_name": "Python 2",
   "language": "python",
   "name": "python2"
  },
  "language_info": {
   "codemirror_mode": {
    "name": "ipython",
    "version": 2
   },
   "file_extension": ".py",
   "mimetype": "text/x-python",
   "name": "python",
   "nbconvert_exporter": "python",
   "pygments_lexer": "ipython2",
   "version": "2.7.9"
  }
 },
 "nbformat": 4,
 "nbformat_minor": 0
}
